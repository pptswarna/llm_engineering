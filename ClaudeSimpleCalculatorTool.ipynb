{
  "nbformat": 4,
  "nbformat_minor": 0,
  "metadata": {
    "colab": {
      "provenance": [],
      "authorship_tag": "ABX9TyNHQNLrO5cavnRb9aaL71xd",
      "include_colab_link": true
    },
    "kernelspec": {
      "name": "python3",
      "display_name": "Python 3"
    },
    "language_info": {
      "name": "python"
    }
  },
  "cells": [
    {
      "cell_type": "markdown",
      "metadata": {
        "id": "view-in-github",
        "colab_type": "text"
      },
      "source": [
        "<a href=\"https://colab.research.google.com/github/pptswarna/llm_engineering/blob/main/ClaudeSimpleCalculatorTool.ipynb\" target=\"_parent\"><img src=\"https://colab.research.google.com/assets/colab-badge.svg\" alt=\"Open In Colab\"/></a>"
      ]
    },
    {
      "cell_type": "code",
      "source": [
        "!pip install anthropic\n"
      ],
      "metadata": {
        "id": "RhelRxP4h27P",
        "outputId": "6e14f349-af7c-4bad-8aa2-9a9c54befee8",
        "colab": {
          "base_uri": "https://localhost:8080/"
        }
      },
      "execution_count": 6,
      "outputs": [
        {
          "output_type": "stream",
          "name": "stdout",
          "text": [
            "Collecting anthropic\n",
            "  Downloading anthropic-0.57.1-py3-none-any.whl.metadata (27 kB)\n",
            "Requirement already satisfied: anyio<5,>=3.5.0 in /usr/local/lib/python3.11/dist-packages (from anthropic) (4.9.0)\n",
            "Requirement already satisfied: distro<2,>=1.7.0 in /usr/local/lib/python3.11/dist-packages (from anthropic) (1.9.0)\n",
            "Requirement already satisfied: httpx<1,>=0.25.0 in /usr/local/lib/python3.11/dist-packages (from anthropic) (0.28.1)\n",
            "Requirement already satisfied: jiter<1,>=0.4.0 in /usr/local/lib/python3.11/dist-packages (from anthropic) (0.10.0)\n",
            "Requirement already satisfied: pydantic<3,>=1.9.0 in /usr/local/lib/python3.11/dist-packages (from anthropic) (2.11.7)\n",
            "Requirement already satisfied: sniffio in /usr/local/lib/python3.11/dist-packages (from anthropic) (1.3.1)\n",
            "Requirement already satisfied: typing-extensions<5,>=4.10 in /usr/local/lib/python3.11/dist-packages (from anthropic) (4.14.0)\n",
            "Requirement already satisfied: idna>=2.8 in /usr/local/lib/python3.11/dist-packages (from anyio<5,>=3.5.0->anthropic) (3.10)\n",
            "Requirement already satisfied: certifi in /usr/local/lib/python3.11/dist-packages (from httpx<1,>=0.25.0->anthropic) (2025.6.15)\n",
            "Requirement already satisfied: httpcore==1.* in /usr/local/lib/python3.11/dist-packages (from httpx<1,>=0.25.0->anthropic) (1.0.9)\n",
            "Requirement already satisfied: h11>=0.16 in /usr/local/lib/python3.11/dist-packages (from httpcore==1.*->httpx<1,>=0.25.0->anthropic) (0.16.0)\n",
            "Requirement already satisfied: annotated-types>=0.6.0 in /usr/local/lib/python3.11/dist-packages (from pydantic<3,>=1.9.0->anthropic) (0.7.0)\n",
            "Requirement already satisfied: pydantic-core==2.33.2 in /usr/local/lib/python3.11/dist-packages (from pydantic<3,>=1.9.0->anthropic) (2.33.2)\n",
            "Requirement already satisfied: typing-inspection>=0.4.0 in /usr/local/lib/python3.11/dist-packages (from pydantic<3,>=1.9.0->anthropic) (0.4.1)\n",
            "Downloading anthropic-0.57.1-py3-none-any.whl (292 kB)\n",
            "\u001b[2K   \u001b[90m━━━━━━━━━━━━━━━━━━━━━━━━━━━━━━━━━━━━━━━━\u001b[0m \u001b[32m292.8/292.8 kB\u001b[0m \u001b[31m16.3 MB/s\u001b[0m eta \u001b[36m0:00:00\u001b[0m\n",
            "\u001b[?25hInstalling collected packages: anthropic\n",
            "Successfully installed anthropic-0.57.1\n"
          ]
        }
      ]
    },
    {
      "cell_type": "code",
      "source": [
        "from google.colab import userdata\n",
        "import anthropic\n"
      ],
      "metadata": {
        "id": "MToR-b__ju0r"
      },
      "execution_count": 8,
      "outputs": []
    },
    {
      "cell_type": "code",
      "execution_count": 9,
      "metadata": {
        "id": "yH71eJtQhrOi"
      },
      "outputs": [],
      "source": [
        "api_key = userdata.get('ANTHROPIC_TOKEN')\n",
        "client = anthropic.Anthropic(api_key=api_key)"
      ]
    },
    {
      "cell_type": "code",
      "source": [
        "def calculator(operation, operand1, operand2):\n",
        "    if operation == \"add\":\n",
        "        return operand1 + operand2\n",
        "    elif operation == \"subtract\":\n",
        "        return operand1 - operand2\n",
        "    elif operation == \"multiply\":\n",
        "        return operand1 * operand2\n",
        "    elif operation == \"divide\":\n",
        "        if operand2 == 0:\n",
        "            raise ValueError(\"Cannot divide by zero.\")\n",
        "        return operand1 / operand2\n",
        "    else:\n",
        "        raise ValueError(f\"Unsupported operation: {operation}\")"
      ],
      "metadata": {
        "id": "XoDaVKK_kjZ3"
      },
      "execution_count": 12,
      "outputs": []
    },
    {
      "cell_type": "code",
      "source": [
        "calculator(\"add\",10,3)"
      ],
      "metadata": {
        "id": "dGUwrszYk__g",
        "outputId": "15bda968-bcee-4553-f59f-453b31716cea",
        "colab": {
          "base_uri": "https://localhost:8080/"
        }
      },
      "execution_count": 13,
      "outputs": [
        {
          "output_type": "execute_result",
          "data": {
            "text/plain": [
              "13"
            ]
          },
          "metadata": {},
          "execution_count": 13
        }
      ]
    },
    {
      "cell_type": "code",
      "source": [
        "calculator_tool = {\n",
        "    \"name\": \"calculator\",\n",
        "    \"description\": \"A simple calculator that performs basic arithmetic operations.\",\n",
        "    \"input_schema\": {\n",
        "        \"type\": \"object\",\n",
        "        \"properties\": {\n",
        "            \"operation\": {\n",
        "                \"type\": \"string\",\n",
        "                \"enum\": [\"add\", \"subtract\", \"multiply\", \"divide\"],\n",
        "                \"description\": \"The arithmetic operation to perform.\"\n",
        "            },\n",
        "            \"operand1\": {\n",
        "                \"type\": \"number\",\n",
        "                \"description\": \"The first operand.\"\n",
        "            },\n",
        "            \"operand2\": {\n",
        "                \"type\": \"number\",\n",
        "                \"description\": \"The second operand.\"\n",
        "            }\n",
        "        },\n",
        "        \"required\": [\"operation\", \"operand1\", \"operand2\"]\n",
        "    }\n",
        "}"
      ],
      "metadata": {
        "id": "SMccM-HdlKa-"
      },
      "execution_count": 14,
      "outputs": []
    },
    {
      "cell_type": "code",
      "source": [
        "try:\n",
        "    message = client.messages.create(\n",
        "        model=\"claude-3-5-sonnet-20241022\",\n",
        "        max_tokens=1000,\n",
        "        messages=[\n",
        "            {\"role\": \"user\", \"content\": \"Multiply 1234567 by 9876543.Respond with the result only\"}\n",
        "        ]\n",
        "    )\n",
        "    message\n",
        "except Exception as e:\n",
        "    print(f\"❌ Setup failed: {e}\")"
      ],
      "metadata": {
        "id": "hZkXCalmkHfj"
      },
      "execution_count": 22,
      "outputs": []
    }
  ]
}