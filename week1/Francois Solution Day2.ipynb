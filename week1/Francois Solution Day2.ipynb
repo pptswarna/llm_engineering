{
 "cells": [
  {
   "cell_type": "code",
   "execution_count": 1,
   "id": "1d2eb6c9-e747-460b-b1b3-73f5ca1d271b",
   "metadata": {},
   "outputs": [],
   "source": [
    "# let's use Selenium\n",
    "\n",
    "import requests\n",
    "from bs4 import BeautifulSoup\n",
    "import json\n",
    "from IPython.display import display, Markdown\n",
    "\n",
    "# Selenium imports\n",
    "from selenium import webdriver\n",
    "from selenium.webdriver.chrome.options import Options\n",
    "from selenium.webdriver.chrome.service import Service\n",
    "from webdriver_manager.chrome import ChromeDriverManager\n",
    "\n",
    "# Constants\n",
    "OLLAMA_API = \"http://localhost:11434/api/chat\"\n",
    "HEADERS = {\"Content-Type\": \"application/json\"}\n",
    "MODEL = \"llama3.2\"\n",
    "\n",
    "# System prompt\n",
    "system_prompt = (\n",
    "    \"You are an assistant that analyzes the contents of a website \"\n",
    "    \"and provides a short summary, ignoring text that might be navigation related. \"\n",
    "    \"Respond in markdown.\"\n",
    ")\n",
    "\n",
    "def get_rendered_html(url, wait_time=5):\n",
    "    options = Options()\n",
    "    options.add_argument(\"--headless\") # Essential when running Selenium a containarized environment such as Jupyter Lab.\n",
    "    options.add_argument(\"--disable-gpu\") # More by tradition than anything else.\n",
    "    options.add_argument(\"--no-sandbox\") # Disables Chrome's sandbox security feature. We're not in production, so this is safe.\n",
    "    options.add_argument(\"--log-level=3\") # Warn me only when the system is about to crash\n",
    "\n",
    "    service = Service(ChromeDriverManager().install())\n",
    "    driver = webdriver.Chrome(service=service, options=options)\n",
    "\n",
    "    driver.get(url)\n",
    "    driver.implicitly_wait(wait_time)\n",
    "\n",
    "    html = driver.page_source\n",
    "    driver.quit()\n",
    "    return html\n",
    "\n",
    "def extract_main_text_from_html(html):\n",
    "    soup = BeautifulSoup(html, \"html.parser\")\n",
    "    for tag in soup([\"nav\", \"header\", \"footer\", \"aside\", \"script\", \"style\"]):\n",
    "        tag.decompose()\n",
    "    text = soup.get_text(separator=\"\\n\")\n",
    "    lines = [line.strip() for line in text.splitlines() if line.strip()]\n",
    "    return \"\\n\".join(lines[:1000])  # Keep input size manageable for the LLM\n",
    "\n",
    "def summarize_website_selenium(url):\n",
    "    html = get_rendered_html(url)\n",
    "    content = extract_main_text_from_html(html)\n",
    "\n",
    "    messages = [\n",
    "        {\"role\": \"system\", \"content\": system_prompt},\n",
    "        {\"role\": \"user\", \"content\": content}\n",
    "    ]\n",
    "\n",
    "    payload = {\n",
    "        \"model\": MODEL,\n",
    "        \"messages\": messages,\n",
    "        \"stream\": False\n",
    "    }\n",
    "\n",
    "    response = requests.post(OLLAMA_API, headers=HEADERS, data=json.dumps(payload))\n",
    "    return response.json().get(\"message\", {}).get(\"content\", \"No response content\")\n"
   ]
  },
  {
   "cell_type": "code",
   "execution_count": 2,
   "id": "d697f2e0-5142-4749-a351-4fc439357943",
   "metadata": {},
   "outputs": [],
   "source": [
    "# Change this to the page you want to summarize\n",
    "target_url = \"https://en.wikipedia.org/wiki/Machine_learning\""
   ]
  },
  {
   "cell_type": "code",
   "execution_count": 4,
   "id": "f205a58c-0194-4c03-a15c-d8d0c2bde3db",
   "metadata": {},
   "outputs": [
    {
     "data": {
      "text/markdown": [
       "Here's an overview of machine learning, with key concepts, techniques, and applications:\n",
       "\n",
       "**What is Machine Learning?**\n",
       "\n",
       "Machine learning is a subset of artificial intelligence that involves training algorithms to learn from data and make predictions or decisions without being explicitly programmed.\n",
       "\n",
       "**Types of Machine Learning**\n",
       "\n",
       "1. **Supervised Learning**: The algorithm learns from labeled data and makes predictions on new, unseen data.\n",
       "2. **Unsupervised Learning**: The algorithm identifies patterns and structure in unlabeled data.\n",
       "3. **Semi-Supervised Learning**: A combination of supervised and unsupervised learning, where some data is labeled and some is not.\n",
       "\n",
       "**Machine Learning Algorithms**\n",
       "\n",
       "1. **Classification**: Predicting a categorical label for a new instance (e.g., spam vs. non-spam email).\n",
       "2. **Regression**: Predicting a continuous value for a new instance (e.g., predicting house prices based on features like number of rooms and square footage).\n",
       "3. **Clustering**: Grouping similar instances into clusters.\n",
       "4. **Dimensionality Reduction**: Reducing the number of features in a dataset.\n",
       "\n",
       "**Reinforcement Learning**\n",
       "\n",
       "1. **Markov Decision Process (MDP)**: An environment with a set of states, actions, and rewards.\n",
       "2. **Agent**: An entity that interacts with the environment to maximize rewards.\n",
       "\n",
       "**Applications of Machine Learning**\n",
       "\n",
       "1. **Image Classification**: Classifying images into categories (e.g., self-driving cars).\n",
       "2. **Natural Language Processing (NLP)**: Analyzing and generating human language (e.g., chatbots, text summarization).\n",
       "3. **Recommendation Systems**: Suggesting products or services based on user behavior.\n",
       "4. **Speech Recognition**: Transcribing spoken words into text.\n",
       "\n",
       "**Key Concepts**\n",
       "\n",
       "1. **Bias-Variance Tradeoff**: Balancing the tradeoff between model simplicity and accuracy.\n",
       "2. **Overfitting**: When a model is too complex and fits the training data but fails to generalize to new data.\n",
       "3. **Underfitting**: When a model is too simple and fails to capture important patterns in the data.\n",
       "\n",
       "**Computational Learning Theory**\n",
       "\n",
       "1. **Probably Approximately Correct (PAC) Learning**: A framework for analyzing the performance of machine learning algorithms.\n",
       "2. **Bias-Variance Decomposition**: Analyzing the tradeoff between bias and variance in a model.\n",
       "\n",
       "I hope this provides a good overview of machine learning!"
      ],
      "text/plain": [
       "<IPython.core.display.Markdown object>"
      ]
     },
     "metadata": {},
     "output_type": "display_data"
    }
   ],
   "source": [
    "summary = summarize_website_selenium(target_url)\n",
    "display(Markdown(summary))"
   ]
  },
  {
   "cell_type": "code",
   "execution_count": null,
   "id": "40aeb38a-fe39-427b-b416-7bab30a0233e",
   "metadata": {},
   "outputs": [],
   "source": []
  }
 ],
 "metadata": {
  "kernelspec": {
   "display_name": "Python 3 (ipykernel)",
   "language": "python",
   "name": "python3"
  },
  "language_info": {
   "codemirror_mode": {
    "name": "ipython",
    "version": 3
   },
   "file_extension": ".py",
   "mimetype": "text/x-python",
   "name": "python",
   "nbconvert_exporter": "python",
   "pygments_lexer": "ipython3",
   "version": "3.11.13"
  }
 },
 "nbformat": 4,
 "nbformat_minor": 5
}
